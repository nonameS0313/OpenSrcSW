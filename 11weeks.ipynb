{
 "cells": [
  {
   "cell_type": "code",
   "execution_count": 35,
   "metadata": {},
   "outputs": [
    {
     "name": "stdout",
     "output_type": "stream",
     "text": [
      "파이썬 2\n",
      "파일 2\n",
      "읽기 2\n",
      "예제입니다. 2\n",
      "다양한 1\n",
      "메소드를 1\n",
      "공부해 1\n",
      "보세요. 1\n",
      "실력이 1\n",
      "팍팍 1\n",
      "늘 1\n",
      "거에요! 1\n",
      "단어 1\n",
      "수를 1\n",
      "카운트하는 1\n",
      "실습 1\n"
     ]
    }
   ],
   "source": [
    "f = open('README.txt', 'r', encoding = 'UTF8')\n",
    "\n",
    "dic = {}\n",
    "\n",
    "for line in f:\n",
    "    \n",
    "    line = line.strip()\n",
    "    linelist = line.split()\n",
    "    \n",
    "    for word in linelist:\n",
    "       \n",
    "        if word in dic:\n",
    "            dic[word] += 1\n",
    "        else:\n",
    "            dic[word] = 1\n",
    "\n",
    "for i in dic:\n",
    "    print(i, dic[i])\n"
   ]
  },
  {
   "cell_type": "code",
   "execution_count": 37,
   "metadata": {},
   "outputs": [
    {
     "name": "stdout",
     "output_type": "stream",
     "text": [
      "x값 : 1 ,y값 :  1\n",
      "x값 : 3 ,y값 :  3\n",
      "p1 x값 : 5 ,p1 y값 :  5\n",
      "p2 x값 : 7 ,p2 y값 :  7\n"
     ]
    }
   ],
   "source": [
    "class Point:\n",
    "    def __init__(self, x, y):\n",
    "        self.x = x\n",
    "        self.y = y\n",
    "    \n",
    "    def move(self, dx, dy):\n",
    "        self.x += dx\n",
    "        self.y += dy\n",
    "    \n",
    "    def show(self):\n",
    "        print(\"x값 :\", self.x, \",y값 : \", self.y)\n",
    "        \n",
    "class Box(Point):    \n",
    "    def __init__(self, p1, p2):\n",
    "        self.p1 = p1\n",
    "        self.p2 = p2\n",
    "        \n",
    "    def move(self, dx, dy):\n",
    "        self.p1.move(dx, dy)\n",
    "        self.p2.move(dx, dy)\n",
    "    \n",
    "    def show(self):\n",
    "        print(\"p1 x값 :\", p1.x, \",p1 y값 : \", p1.y)\n",
    "        print(\"p2 x값 :\", p2.x, \",p2 y값 : \", p2.y)\n",
    "\n",
    "p1 = Point(1, 1)\n",
    "p1.show()\n",
    "\n",
    "p2 = Point(3, 3)\n",
    "p2.show()\n",
    "\n",
    "box1 = Box(p1, p2)\n",
    "box1.move(4, 4)\n",
    "box1.show()"
   ]
  },
  {
   "cell_type": "code",
   "execution_count": null,
   "metadata": {},
   "outputs": [],
   "source": []
  }
 ],
 "metadata": {
  "kernelspec": {
   "display_name": "Python 3",
   "language": "python",
   "name": "python3"
  },
  "language_info": {
   "codemirror_mode": {
    "name": "ipython",
    "version": 3
   },
   "file_extension": ".py",
   "mimetype": "text/x-python",
   "name": "python",
   "nbconvert_exporter": "python",
   "pygments_lexer": "ipython3",
   "version": "3.8.3"
  }
 },
 "nbformat": 4,
 "nbformat_minor": 4
}
