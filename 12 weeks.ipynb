{
 "cells": [
  {
   "cell_type": "code",
   "execution_count": 15,
   "metadata": {},
   "outputs": [
    {
     "name": "stdout",
     "output_type": "stream",
     "text": [
      "일교차가 가장 큰 날\n",
      "2021-04-21\n",
      "최저기온이 가장 낮은 날\n",
      "2021-01-08\n",
      "최고기온이 가장 높은 날\n",
      "2021-07-24\n"
     ]
    }
   ],
   "source": [
    "import csv\n",
    "f = open('seoul.csv','r', encoding='cp949')\n",
    "data = csv.reader(f, delimiter=',')\n",
    "header = next(data)\n",
    "max_temp = -999\n",
    "min_temp = 999\n",
    "max_interval = 0\n",
    "max_date = ''\n",
    "min_date = ''\n",
    "interval_date = ''\n",
    "for row in data :\n",
    "    if row[-1] == '':\n",
    "        row[-1] = -999\n",
    "    if row[-2] == '':\n",
    "        row[-2] = 999\n",
    "    row[-1] = float(row[-1])\n",
    "    row[-2] = float(row[-2])\n",
    "    \n",
    "    if max_temp < row[-1]:\n",
    "        max_date = row[0]\n",
    "        max_temp = row[-1]\n",
    "    if min_temp > row[-2]:\n",
    "        min_date = row[0]\n",
    "        min_temp = row[-2]\n",
    "        \n",
    "    interval = row[-1] - row[-2]\n",
    "    \n",
    "    if interval > max_interval:\n",
    "        max_interval = interval\n",
    "        interval_date = row[0]\n",
    "    \n",
    "f.close()\n",
    "print('일교차가 가장 큰 날')\n",
    "print(interval_date)\n",
    "print('최저기온이 가장 낮은 날')\n",
    "print(min_date)\n",
    "print('최고기온이 가장 높은 날')\n",
    "print(max_date)\n",
    "\n"
   ]
  },
  {
   "cell_type": "code",
   "execution_count": 31,
   "metadata": {},
   "outputs": [
    {
     "name": "stdout",
     "output_type": "stream",
     "text": [
      "이용객이 가장 많은 역 순위\n",
      "1. 강남(4364436)\n",
      "2. 잠실(송파구청)(3927922)\n",
      "3. 신림(3412199)\n",
      "이용객이 가장 적은 역 순위\n",
      "1. 검암(2)\n",
      "2. 창동(8)\n",
      "3. 계양(8)\n"
     ]
    }
   ],
   "source": [
    "import csv\n",
    "f = open('subwayUser.csv','r',encoding='cp949')\n",
    "data = csv.reader(f, delimiter=',')\n",
    "header = next(data)\n",
    "max_user = [' ',' ',' ']\n",
    "min_user = [' ',' ',' ']\n",
    "max_count = [0,0,0]\n",
    "min_count = [100000000,100000000,100000000]\n",
    "temp = 0\n",
    "name_temp = 'a'\n",
    "\n",
    "for row in data:\n",
    "    if row[-1] == '':\n",
    "        row[-1] = 0\n",
    "    if row[-2] == '':\n",
    "        row[-2] = 0\n",
    "    row[-1] = int(row[-1])\n",
    "    row[-2] = int(row[-2])\n",
    "    \n",
    "    user_count = row[-1] + row[-2]\n",
    "    if max_count[2] < user_count:\n",
    "        if max_count[1] < user_count:\n",
    "            if max_count[0] < user_count:\n",
    "                max_count[2] = max_count[1]\n",
    "                max_count[1] = max_count[0]\n",
    "                max_count[0] = user_count\n",
    "                max_user[2] = max_user[1]\n",
    "                max_user[1] = max_user[0]\n",
    "                max_user[0] = row[-3]\n",
    "            else:\n",
    "                max_count[2] = max_count[1]\n",
    "                max_count[1] = user_count\n",
    "                max_user[2] = max_user[1]\n",
    "                max_user[1] = row[-3]\n",
    "        else:\n",
    "            max_count[2] = user_count\n",
    "            max_user[2]= row[-3]\n",
    "    \n",
    "    if min_count[2] > user_count:\n",
    "        if min_count[1] > user_count:\n",
    "            if min_count[0] > user_count:\n",
    "                min_count[2] = min_count[1]\n",
    "                min_count[1] = min_count[0]\n",
    "                min_count[0] = user_count\n",
    "                min_user[2] = min_user[1]\n",
    "                min_user[1] = min_user[0]\n",
    "                min_user[0] = row[-3]\n",
    "            else:\n",
    "                min_count[2] = min_count[1]\n",
    "                min_count[1] = user_count\n",
    "                min_user[2] = min_user[1]\n",
    "                min_user[1] = row[-3]\n",
    "        else:\n",
    "            min_count[2] = user_count\n",
    "            min_user[2] = row[-3]\n",
    "\n",
    "f.close()\n",
    "\n",
    "print('이용객이 가장 많은 역 순위')\n",
    "for i in range(0,3):\n",
    "    print(str(i+1) + '. ' + max_user[i] + '(' + str(max_count[i]) + ')')\n",
    "print('이용객이 가장 적은 역 순위')\n",
    "for i in range(0,3):\n",
    "    print(str(i+1) + '. ' + min_user[i] + '(' + str(min_count[i]) + ')')"
   ]
  },
  {
   "cell_type": "code",
   "execution_count": null,
   "metadata": {},
   "outputs": [],
   "source": []
  },
  {
   "cell_type": "code",
   "execution_count": null,
   "metadata": {},
   "outputs": [],
   "source": []
  }
 ],
 "metadata": {
  "kernelspec": {
   "display_name": "Python 3",
   "language": "python",
   "name": "python3"
  },
  "language_info": {
   "codemirror_mode": {
    "name": "ipython",
    "version": 3
   },
   "file_extension": ".py",
   "mimetype": "text/x-python",
   "name": "python",
   "nbconvert_exporter": "python",
   "pygments_lexer": "ipython3",
   "version": "3.8.3"
  }
 },
 "nbformat": 4,
 "nbformat_minor": 4
}
